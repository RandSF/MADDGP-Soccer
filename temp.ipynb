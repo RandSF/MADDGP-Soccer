{
 "cells": [
  {
   "cell_type": "code",
   "execution_count": 2,
   "metadata": {},
   "outputs": [
    {
     "data": {
      "text/plain": [
       "'test'"
      ]
     },
     "execution_count": 2,
     "metadata": {},
     "output_type": "execute_result"
    }
   ],
   "source": [
    "import torch\n",
    "import numpy as np\n",
    "import ddpgagent\n",
    "from soccer import SoccerEnviroment\n",
    "\n",
    "\"test\""
   ]
  },
  {
   "cell_type": "code",
   "execution_count": 3,
   "metadata": {},
   "outputs": [],
   "source": [
    "MAX_EPISODES=200\n",
    "MAX_STEP=200\n",
    "LR_A=0.001\n",
    "LR_C=0.002\n",
    "GAMMA=0.01\n",
    "MEMORY_CAPACITY=10000\n",
    "BATCH_SIZE=32\n",
    "TAU=0.01\n",
    "RENDER=False\n",
    "ENV = SoccerEnviroment()\n",
    "agent=ddpgagent.DDPGAgent(ENV, GAMMA,LR_A,LR_C,BATCH_SIZE,MEMORY_CAPACITY,TAU)"
   ]
  },
  {
   "cell_type": "code",
   "execution_count": 6,
   "metadata": {},
   "outputs": [
    {
     "name": "stdout",
     "output_type": "stream",
     "text": [
      "Actor(\n",
      "  (fc1): Linear(in_features=3, out_features=10, bias=True)\n",
      "  (fc2): Linear(in_features=10, out_features=5, bias=True)\n",
      ")\n",
      "Critic(\n",
      "  (fc1): Linear(in_features=8, out_features=4, bias=True)\n",
      "  (fc2): Linear(in_features=4, out_features=1, bias=True)\n",
      ")\n"
     ]
    }
   ],
   "source": [
    "print(agent.actor)\n",
    "print(agent.critic)"
   ]
  },
  {
   "cell_type": "code",
   "execution_count": 5,
   "metadata": {},
   "outputs": [
    {
     "ename": "NameError",
     "evalue": "name 'randomPlayAgent' is not defined",
     "output_type": "error",
     "traceback": [
      "\u001b[1;31m---------------------------------------------------------------------------\u001b[0m",
      "\u001b[1;31mNameError\u001b[0m                                 Traceback (most recent call last)",
      "\u001b[1;32m~\\AppData\\Local\\Temp/ipykernel_18668/3947346130.py\u001b[0m in \u001b[0;36m<module>\u001b[1;34m\u001b[0m\n\u001b[1;32m----> 1\u001b[1;33m \u001b[0mOpponent\u001b[0m \u001b[1;33m=\u001b[0m \u001b[0mrandomPlayAgent\u001b[0m\u001b[1;33m(\u001b[0m\u001b[0mENV\u001b[0m\u001b[1;33m,\u001b[0m \u001b[0mGAMMA\u001b[0m\u001b[1;33m)\u001b[0m\u001b[1;33m\u001b[0m\u001b[1;33m\u001b[0m\u001b[0m\n\u001b[0m\u001b[0;32m      2\u001b[0m \u001b[0mgame1\u001b[0m \u001b[1;33m=\u001b[0m \u001b[0mSoccerGame\u001b[0m\u001b[1;33m(\u001b[0m\u001b[0mMAX_EPISODES\u001b[0m\u001b[1;33m,\u001b[0m \u001b[0malpha_start\u001b[0m\u001b[1;33m,\u001b[0m \u001b[0malpha_decay\u001b[0m\u001b[1;33m,\u001b[0m \u001b[0malpha_min\u001b[0m\u001b[1;33m,\u001b[0m \u001b[0mepsilon_start\u001b[0m\u001b[1;33m,\u001b[0m \u001b[0mepsilon_decay\u001b[0m\u001b[1;33m,\u001b[0m \u001b[0mepsilon_min\u001b[0m\u001b[1;33m,\u001b[0m \u001b[0mGAMMA\u001b[0m\u001b[1;33m,\u001b[0m \u001b[0mENV\u001b[0m\u001b[1;33m,\u001b[0m \u001b[0mDDPGAgent\u001b[0m\u001b[1;33m,\u001b[0m \u001b[0mOpponent\u001b[0m\u001b[1;33m)\u001b[0m\u001b[1;33m\u001b[0m\u001b[1;33m\u001b[0m\u001b[0m\n",
      "\u001b[1;31mNameError\u001b[0m: name 'randomPlayAgent' is not defined"
     ]
    }
   ],
   "source": []
  },
  {
   "cell_type": "code",
   "execution_count": null,
   "metadata": {},
   "outputs": [],
   "source": []
  }
 ],
 "metadata": {
  "interpreter": {
   "hash": "cef9e06bb236b2a8629b07e87a04b187b952a0f661eff5533360a155783f0c33"
  },
  "kernelspec": {
   "display_name": "Python 3.9.7 ('base')",
   "language": "python",
   "name": "python3"
  },
  "language_info": {
   "codemirror_mode": {
    "name": "ipython",
    "version": 3
   },
   "file_extension": ".py",
   "mimetype": "text/x-python",
   "name": "python",
   "nbconvert_exporter": "python",
   "pygments_lexer": "ipython3",
   "version": "3.9.7"
  },
  "orig_nbformat": 4
 },
 "nbformat": 4,
 "nbformat_minor": 2
}
