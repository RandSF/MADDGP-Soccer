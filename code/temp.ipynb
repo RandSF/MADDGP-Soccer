{
 "cells": [
  {
   "cell_type": "code",
   "execution_count": 2,
   "metadata": {},
   "outputs": [
    {
     "data": {
      "text/plain": [
       "'test'"
      ]
     },
     "execution_count": 2,
     "metadata": {},
     "output_type": "execute_result"
    }
   ],
   "source": [
    "import torch\n",
    "import numpy as np\n",
    "import ddpgAgent\n",
    "from soccer import SoccerEnviroment\n",
    "\n",
    "\"test\""
   ]
  },
  {
   "cell_type": "code",
   "execution_count": 3,
   "metadata": {},
   "outputs": [
    {
     "name": "stdout",
     "output_type": "stream",
     "text": [
      "Actor(\n",
      "  (fc1): Linear(in_features=3, out_features=10, bias=True)\n",
      "  (fc2): Linear(in_features=10, out_features=5, bias=True)\n",
      ")\n",
      "Critic(\n",
      "  (fc1): Linear(in_features=4, out_features=2, bias=True)\n",
      "  (fc2): Linear(in_features=2, out_features=1, bias=True)\n",
      ")\n"
     ]
    }
   ],
   "source": [
    "MAX_EPISODES=200\n",
    "MAX_STEP=200\n",
    "LR_A=0.001\n",
    "LR_C=0.002\n",
    "GAMMA=0.01\n",
    "MEMORY_CAPACITY=10000\n",
    "BATCH_SIZE=32\n",
    "TAU=0.01\n",
    "RENDER=False\n",
    "ENV = SoccerEnviroment()\n",
    "agent=ddpgAgent.DDPGAgent(ENV, GAMMA,LR_A,LR_C,BATCH_SIZE,MEMORY_CAPACITY,TAU)\n",
    "print(agent.actor)\n",
    "print(agent.critic)"
   ]
  },
  {
   "cell_type": "code",
   "execution_count": 5,
   "metadata": {},
   "outputs": [
    {
     "data": {
      "text/plain": [
       "OrderedDict([('fc1.weight',\n",
       "              tensor([[ 0.0064, -0.0290,  0.0733],\n",
       "                      [ 0.0985,  0.2088,  0.0945],\n",
       "                      [ 0.0993,  0.0017, -0.1231],\n",
       "                      [ 0.0956,  0.0437,  0.0578],\n",
       "                      [-0.1184,  0.0446,  0.0620],\n",
       "                      [ 0.2518,  0.1238, -0.0369],\n",
       "                      [-0.0938, -0.1853,  0.0831],\n",
       "                      [-0.1074,  0.0324,  0.1371],\n",
       "                      [ 0.0114, -0.1078, -0.1483],\n",
       "                      [ 0.0119, -0.0735, -0.0598]])),\n",
       "             ('fc1.bias',\n",
       "              tensor([-0.5553,  0.3213,  0.0700, -0.3179, -0.1443,  0.0406,  0.5670,  0.2301,\n",
       "                      -0.2124, -0.4473])),\n",
       "             ('fc2.weight',\n",
       "              tensor([[ 0.1348, -0.0911,  0.1304,  0.0477,  0.2119, -0.1946, -0.0046, -0.0619,\n",
       "                        0.0309, -0.0824],\n",
       "                      [-0.0423,  0.0804,  0.2125,  0.0815,  0.0593, -0.0606,  0.0136,  0.0933,\n",
       "                        0.0176,  0.1187],\n",
       "                      [ 0.2513,  0.0667, -0.2149, -0.0433, -0.0780, -0.1154, -0.1802,  0.0777,\n",
       "                       -0.1130,  0.0495],\n",
       "                      [-0.0272, -0.1031,  0.0415, -0.2027, -0.0372,  0.0973,  0.0493,  0.1406,\n",
       "                       -0.0366,  0.1038],\n",
       "                      [-0.0284,  0.1631,  0.0570,  0.0031,  0.0784,  0.0395,  0.1752,  0.1351,\n",
       "                        0.1020, -0.0308]])),\n",
       "             ('fc2.bias',\n",
       "              tensor([-0.0777, -0.1820, -0.0348, -0.2344, -0.3155]))])"
      ]
     },
     "execution_count": 5,
     "metadata": {},
     "output_type": "execute_result"
    }
   ],
   "source": [
    "agent.actor.state_dict()"
   ]
  },
  {
   "cell_type": "code",
   "execution_count": 33,
   "metadata": {},
   "outputs": [
    {
     "data": {
      "text/plain": [
       "tensor([0, 3, 2, 1, 0])"
      ]
     },
     "execution_count": 33,
     "metadata": {},
     "output_type": "execute_result"
    }
   ],
   "source": [
    "a.argmax(axis=0).detach()"
   ]
  },
  {
   "cell_type": "code",
   "execution_count": 55,
   "metadata": {},
   "outputs": [
    {
     "data": {
      "text/plain": [
       "tensor([[1, 1, 1, 2],\n",
       "        [3, 3, 3, 4]])"
      ]
     },
     "execution_count": 55,
     "metadata": {},
     "output_type": "execute_result"
    }
   ],
   "source": [
    "x=torch.tensor([[1,1,1],[3,3,3]])\n",
    "y=torch.tensor([[2],[4]])\n",
    "torch.cat((x,y),1)"
   ]
  },
  {
   "cell_type": "code",
   "execution_count": 60,
   "metadata": {},
   "outputs": [
    {
     "data": {
      "text/plain": [
       "tensor([3, 2, 1])"
      ]
     },
     "execution_count": 60,
     "metadata": {},
     "output_type": "execute_result"
    }
   ],
   "source": [
    "p=torch.tensor([[0,0,0,10],\n",
    "                [0,0,10,0],\n",
    "                [0,10,0,0]])\n",
    "p.argmax(axis=1)"
   ]
  },
  {
   "cell_type": "code",
   "execution_count": 66,
   "metadata": {},
   "outputs": [
    {
     "data": {
      "text/plain": [
       "tensor(2)"
      ]
     },
     "execution_count": 66,
     "metadata": {},
     "output_type": "execute_result"
    }
   ],
   "source": [
    "torch.tensor([0,0,1,0,0]).argmax(axis=-1)"
   ]
  },
  {
   "cell_type": "code",
   "execution_count": null,
   "metadata": {},
   "outputs": [],
   "source": []
  }
 ],
 "metadata": {
  "interpreter": {
   "hash": "cef9e06bb236b2a8629b07e87a04b187b952a0f661eff5533360a155783f0c33"
  },
  "kernelspec": {
   "display_name": "Python 3.9.7 ('base')",
   "language": "python",
   "name": "python3"
  },
  "language_info": {
   "codemirror_mode": {
    "name": "ipython",
    "version": 3
   },
   "file_extension": ".py",
   "mimetype": "text/x-python",
   "name": "python",
   "nbconvert_exporter": "python",
   "pygments_lexer": "ipython3",
   "version": "3.9.7"
  },
  "orig_nbformat": 4
 },
 "nbformat": 4,
 "nbformat_minor": 2
}
